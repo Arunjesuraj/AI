{
 "cells": [
  {
   "cell_type": "code",
   "execution_count": 1,
   "metadata": {},
   "outputs": [
    {
     "name": "stderr",
     "output_type": "stream",
     "text": [
      "Using TensorFlow backend.\n"
     ]
    },
    {
     "name": "stdout",
     "output_type": "stream",
     "text": [
      " * Serving Flask app \"__main__\" (lazy loading)\n",
      " * Environment: production\n",
      "   WARNING: This is a development server. Do not use it in a production deployment.\n",
      "   Use a production WSGI server instead.\n",
      " * Debug mode: off\n"
     ]
    },
    {
     "name": "stderr",
     "output_type": "stream",
     "text": [
      " * Running on http://0.0.0.0:5000/ (Press CTRL+C to quit)\n",
      "127.0.0.1 - - [27/Mar/2020 16:01:21] \"\u001b[37mGET / HTTP/1.1\u001b[0m\" 200 -\n",
      "127.0.0.1 - - [27/Mar/2020 16:01:31] \"\u001b[37mGET / HTTP/1.1\u001b[0m\" 200 -\n",
      "[2020-03-27 16:01:52,570] ERROR in app: Exception on /predict [POST]\n",
      "Traceback (most recent call last):\n",
      "  File \"C:\\Users\\ajarun\\AppData\\Local\\Continuum\\Anaconda3\\envs\\tf\\lib\\site-packages\\flask\\app.py\", line 2446, in wsgi_app\n",
      "    response = self.full_dispatch_request()\n",
      "  File \"C:\\Users\\ajarun\\AppData\\Local\\Continuum\\Anaconda3\\envs\\tf\\lib\\site-packages\\flask\\app.py\", line 1951, in full_dispatch_request\n",
      "    rv = self.handle_user_exception(e)\n",
      "  File \"C:\\Users\\ajarun\\AppData\\Local\\Continuum\\Anaconda3\\envs\\tf\\lib\\site-packages\\flask_cors\\extension.py\", line 161, in wrapped_function\n",
      "    return cors_after_request(app.make_response(f(*args, **kwargs)))\n",
      "  File \"C:\\Users\\ajarun\\AppData\\Local\\Continuum\\Anaconda3\\envs\\tf\\lib\\site-packages\\flask\\app.py\", line 1820, in handle_user_exception\n",
      "    reraise(exc_type, exc_value, tb)\n",
      "  File \"C:\\Users\\ajarun\\AppData\\Local\\Continuum\\Anaconda3\\envs\\tf\\lib\\site-packages\\flask\\_compat.py\", line 39, in reraise\n",
      "    raise value\n",
      "  File \"C:\\Users\\ajarun\\AppData\\Local\\Continuum\\Anaconda3\\envs\\tf\\lib\\site-packages\\flask\\app.py\", line 1949, in full_dispatch_request\n",
      "    rv = self.dispatch_request()\n",
      "  File \"C:\\Users\\ajarun\\AppData\\Local\\Continuum\\Anaconda3\\envs\\tf\\lib\\site-packages\\flask\\app.py\", line 1935, in dispatch_request\n",
      "    return self.view_functions[rule.endpoint](**req.view_args)\n",
      "  File \"C:\\Users\\ajarun\\AppData\\Local\\Continuum\\Anaconda3\\envs\\tf\\lib\\site-packages\\flask_cors\\decorator.py\", line 128, in wrapped_function\n",
      "    resp = make_response(f(*args, **kwargs))\n",
      "  File \"<ipython-input-1-61a780388b82>\", line 36, in predictRoute\n",
      "    result = clApp.classifier.predictionfamfrnd()\n",
      "  File \"C:\\Users\\ajarun\\DL\\Classify family and friends images through keras in google colab\\prediction.py\", line 18, in predictionfamfrnd\n",
      "    classifier = load_model('classifier.h5')\n",
      "  File \"C:\\Users\\ajarun\\AppData\\Local\\Continuum\\Anaconda3\\envs\\tf\\lib\\site-packages\\keras\\engine\\saving.py\", line 492, in load_wrapper\n",
      "    return load_function(*args, **kwargs)\n",
      "  File \"C:\\Users\\ajarun\\AppData\\Local\\Continuum\\Anaconda3\\envs\\tf\\lib\\site-packages\\keras\\engine\\saving.py\", line 584, in load_model\n",
      "    model = _deserialize_model(h5dict, custom_objects, compile)\n",
      "  File \"C:\\Users\\ajarun\\AppData\\Local\\Continuum\\Anaconda3\\envs\\tf\\lib\\site-packages\\keras\\engine\\saving.py\", line 274, in _deserialize_model\n",
      "    model = model_from_config(model_config, custom_objects=custom_objects)\n",
      "  File \"C:\\Users\\ajarun\\AppData\\Local\\Continuum\\Anaconda3\\envs\\tf\\lib\\site-packages\\keras\\engine\\saving.py\", line 627, in model_from_config\n",
      "    return deserialize(config, custom_objects=custom_objects)\n",
      "  File \"C:\\Users\\ajarun\\AppData\\Local\\Continuum\\Anaconda3\\envs\\tf\\lib\\site-packages\\keras\\layers\\__init__.py\", line 168, in deserialize\n",
      "    printable_module_name='layer')\n",
      "  File \"C:\\Users\\ajarun\\AppData\\Local\\Continuum\\Anaconda3\\envs\\tf\\lib\\site-packages\\keras\\utils\\generic_utils.py\", line 147, in deserialize_keras_object\n",
      "    list(custom_objects.items())))\n",
      "  File \"C:\\Users\\ajarun\\AppData\\Local\\Continuum\\Anaconda3\\envs\\tf\\lib\\site-packages\\keras\\engine\\sequential.py\", line 302, in from_config\n",
      "    model.add(layer)\n",
      "  File \"C:\\Users\\ajarun\\AppData\\Local\\Continuum\\Anaconda3\\envs\\tf\\lib\\site-packages\\keras\\engine\\sequential.py\", line 162, in add\n",
      "    name=layer.name + '_input')\n",
      "  File \"C:\\Users\\ajarun\\AppData\\Local\\Continuum\\Anaconda3\\envs\\tf\\lib\\site-packages\\keras\\engine\\input_layer.py\", line 178, in Input\n",
      "    input_tensor=tensor)\n",
      "  File \"C:\\Users\\ajarun\\AppData\\Local\\Continuum\\Anaconda3\\envs\\tf\\lib\\site-packages\\keras\\legacy\\interfaces.py\", line 91, in wrapper\n",
      "    return func(*args, **kwargs)\n",
      "  File \"C:\\Users\\ajarun\\AppData\\Local\\Continuum\\Anaconda3\\envs\\tf\\lib\\site-packages\\keras\\engine\\input_layer.py\", line 87, in __init__\n",
      "    name=self.name)\n",
      "  File \"C:\\Users\\ajarun\\AppData\\Local\\Continuum\\Anaconda3\\envs\\tf\\lib\\site-packages\\keras\\backend\\tensorflow_backend.py\", line 73, in symbolic_fn_wrapper\n",
      "    if _SYMBOLIC_SCOPE.value:\n",
      "AttributeError: '_thread._local' object has no attribute 'value'\n",
      "127.0.0.1 - - [27/Mar/2020 16:01:52] \"\u001b[35m\u001b[1mPOST /predict HTTP/1.1\u001b[0m\" 500 -\n"
     ]
    }
   ],
   "source": [
    "from flask import Flask, request, jsonify, render_template\n",
    "import os\n",
    "from flask_cors import CORS, cross_origin\n",
    "from utils import decodeImage\n",
    "from prediction import predict\n",
    "\n",
    "os.putenv('LANG', 'en_US.UTF-8')\n",
    "os.putenv('LC_ALL', 'en_US.UTF-8')\n",
    "\n",
    "app = Flask(__name__)\n",
    "CORS(app)\n",
    "\n",
    "\n",
    "\n",
    "\n",
    "#@cross_origin()\n",
    "class ClientApp:\n",
    "    def __init__(self):\n",
    "        self.filename = \"inputImage.jpg\"\n",
    "        self.classifier = predict(self.filename)\n",
    "\n",
    "\n",
    "\n",
    "@app.route(\"/\", methods=['GET'])\n",
    "@cross_origin()\n",
    "def home():\n",
    "    return render_template('index.html')\n",
    "    \n",
    "\n",
    "\n",
    "@app.route(\"/predict\", methods=['POST'])\n",
    "@cross_origin()\n",
    "def predictRoute():\n",
    "    image = request.json['image']\n",
    "    decodeImage(image, clApp.filename)\n",
    "    result = clApp.classifier.predictionfamfrnd()\n",
    "    return jsonify(result)\n",
    "\n",
    "\n",
    "port = os.getenv(\"PORT\")\n",
    "if __name__ == \"__main__\":\n",
    "    clApp = ClientApp()\n",
    "    app.run(host='0.0.0.0', port=port)\n",
    "    #app.run(host='0.0.0.0', port=5000, debug=True)\n"
   ]
  },
  {
   "cell_type": "code",
   "execution_count": 5,
   "metadata": {},
   "outputs": [
    {
     "name": "stdout",
     "output_type": "stream",
     "text": [
      "Collecting flask_cors\n",
      "  Downloading Flask_Cors-3.0.8-py2.py3-none-any.whl (14 kB)\n",
      "Requirement already satisfied: Flask>=0.9 in c:\\users\\ajarun\\appdata\\local\\continuum\\anaconda3\\envs\\tf\\lib\\site-packages (from flask_cors) (1.1.1)\n",
      "Requirement already satisfied: Six in c:\\users\\ajarun\\appdata\\local\\continuum\\anaconda3\\envs\\tf\\lib\\site-packages (from flask_cors) (1.14.0)\n",
      "Requirement already satisfied: Werkzeug>=0.15 in c:\\users\\ajarun\\appdata\\local\\continuum\\anaconda3\\envs\\tf\\lib\\site-packages (from Flask>=0.9->flask_cors) (1.0.0)\n",
      "Requirement already satisfied: itsdangerous>=0.24 in c:\\users\\ajarun\\appdata\\local\\continuum\\anaconda3\\envs\\tf\\lib\\site-packages (from Flask>=0.9->flask_cors) (1.1.0)\n",
      "Requirement already satisfied: click>=5.1 in c:\\users\\ajarun\\appdata\\local\\continuum\\anaconda3\\envs\\tf\\lib\\site-packages (from Flask>=0.9->flask_cors) (7.1.1)\n",
      "Requirement already satisfied: Jinja2>=2.10.1 in c:\\users\\ajarun\\appdata\\local\\continuum\\anaconda3\\envs\\tf\\lib\\site-packages (from Flask>=0.9->flask_cors) (2.11.1)\n",
      "Requirement already satisfied: MarkupSafe>=0.23 in c:\\users\\ajarun\\appdata\\local\\continuum\\anaconda3\\envs\\tf\\lib\\site-packages (from Jinja2>=2.10.1->Flask>=0.9->flask_cors) (1.1.1)\n",
      "Installing collected packages: flask-cors\n",
      "Successfully installed flask-cors-3.0.8\n"
     ]
    }
   ],
   "source": [
    "!pip install flask_cors"
   ]
  }
 ],
 "metadata": {
  "kernelspec": {
   "display_name": "Python 3",
   "language": "python",
   "name": "python3"
  },
  "language_info": {
   "codemirror_mode": {
    "name": "ipython",
    "version": 3
   },
   "file_extension": ".py",
   "mimetype": "text/x-python",
   "name": "python",
   "nbconvert_exporter": "python",
   "pygments_lexer": "ipython3",
   "version": "3.6.2"
  }
 },
 "nbformat": 4,
 "nbformat_minor": 4
}
