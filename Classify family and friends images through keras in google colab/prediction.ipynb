{
 "cells": [
  {
   "cell_type": "code",
   "execution_count": 3,
   "metadata": {},
   "outputs": [],
   "source": [
    "import numpy as np\n",
    "from keras.models import load_model\n",
    "from keras.preprocessing import image\n",
    "\n",
    "class predict:\n",
    "    def __init__(self,filename):\n",
    "        self.filename =filename\n",
    "\n",
    "\n",
    "    def predictionfamfrnd(self):\n",
    "        # load model\n",
    "        model = load_model('classifier.h5')\n",
    "\n",
    "        # summarize model\n",
    "        #model.summary()\n",
    "        imagename = self.filename\n",
    "        test_image = image.load_img(imagename, target_size = (64, 64))\n",
    "        test_image = image.img_to_array(test_image)\n",
    "        test_image = np.expand_dims(test_image, axis = 0)\n",
    "        result = model.predict(test_image)\n",
    "\n",
    "        if result[0][0] >=0.5:\n",
    "            prediction = 'Friends'\n",
    "            return [{ \"image\" : prediction}]\n",
    "        else:\n",
    "            prediction = 'Family'\n",
    "            return [{ \"image\" : prediction}]\n",
    "\n",
    "\n"
   ]
  }
 ],
 "metadata": {
  "kernelspec": {
   "display_name": "Python 3",
   "language": "python",
   "name": "python3"
  },
  "language_info": {
   "codemirror_mode": {
    "name": "ipython",
    "version": 3
   },
   "file_extension": ".py",
   "mimetype": "text/x-python",
   "name": "python",
   "nbconvert_exporter": "python",
   "pygments_lexer": "ipython3",
   "version": "3.6.2"
  }
 },
 "nbformat": 4,
 "nbformat_minor": 4
}
