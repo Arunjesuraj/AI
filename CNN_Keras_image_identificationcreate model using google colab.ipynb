{
  "nbformat": 4,
  "nbformat_minor": 0,
  "metadata": {
    "colab": {
      "name": "CNN Keras image identification",
      "provenance": [],
      "collapsed_sections": [],
      "toc_visible": true
    },
    "kernelspec": {
      "name": "python3",
      "display_name": "Python 3"
    },
    "accelerator": "GPU"
  },
  "cells": [
    {
      "cell_type": "code",
      "metadata": {
        "id": "U6UQCmt72GAN",
        "colab_type": "code",
        "colab": {
          "base_uri": "https://localhost:8080/",
          "height": 381
        },
        "outputId": "6113005e-1ee9-41ab-e3a2-7b3a9573af57"
      },
      "source": [
        "# importing required modules \n",
        "'''from zipfile import ZipFile \n",
        "  \n",
        "# specifying the zip file name \n",
        "file_name = \"Imagedata.zip\"\n",
        "  \n",
        "# opening the zip file in READ mode \n",
        "with ZipFile(file_name, 'r') as zip: \n",
        "    # printing all the contents of the zip file \n",
        "    zip.printdir() \n",
        "  \n",
        "    # extracting all the files \n",
        "    print('Extracting all the files now...') \n",
        "    zip.extractall() \n",
        "    print('Done!') '''"
      ],
      "execution_count": 7,
      "outputs": [
        {
          "output_type": "error",
          "ename": "BadZipFile",
          "evalue": "ignored",
          "traceback": [
            "\u001b[0;31m---------------------------------------------------------------------------\u001b[0m",
            "\u001b[0;31mBadZipFile\u001b[0m                                Traceback (most recent call last)",
            "\u001b[0;32m<ipython-input-7-11a42a125a4e>\u001b[0m in \u001b[0;36m<module>\u001b[0;34m()\u001b[0m\n\u001b[1;32m      5\u001b[0m \u001b[0;34m\u001b[0m\u001b[0m\n\u001b[1;32m      6\u001b[0m \u001b[0;31m# opening the zip file in READ mode\u001b[0m\u001b[0;34m\u001b[0m\u001b[0;34m\u001b[0m\u001b[0;34m\u001b[0m\u001b[0m\n\u001b[0;32m----> 7\u001b[0;31m \u001b[0;32mwith\u001b[0m \u001b[0mZipFile\u001b[0m\u001b[0;34m(\u001b[0m\u001b[0mfile_name\u001b[0m\u001b[0;34m,\u001b[0m \u001b[0;34m'r'\u001b[0m\u001b[0;34m)\u001b[0m \u001b[0;32mas\u001b[0m \u001b[0mzip\u001b[0m\u001b[0;34m:\u001b[0m\u001b[0;34m\u001b[0m\u001b[0;34m\u001b[0m\u001b[0m\n\u001b[0m\u001b[1;32m      8\u001b[0m     \u001b[0;31m# printing all the contents of the zip file\u001b[0m\u001b[0;34m\u001b[0m\u001b[0;34m\u001b[0m\u001b[0;34m\u001b[0m\u001b[0m\n\u001b[1;32m      9\u001b[0m     \u001b[0mzip\u001b[0m\u001b[0;34m.\u001b[0m\u001b[0mprintdir\u001b[0m\u001b[0;34m(\u001b[0m\u001b[0;34m)\u001b[0m\u001b[0;34m\u001b[0m\u001b[0;34m\u001b[0m\u001b[0m\n",
            "\u001b[0;32m/usr/lib/python3.6/zipfile.py\u001b[0m in \u001b[0;36m__init__\u001b[0;34m(self, file, mode, compression, allowZip64)\u001b[0m\n\u001b[1;32m   1129\u001b[0m         \u001b[0;32mtry\u001b[0m\u001b[0;34m:\u001b[0m\u001b[0;34m\u001b[0m\u001b[0;34m\u001b[0m\u001b[0m\n\u001b[1;32m   1130\u001b[0m             \u001b[0;32mif\u001b[0m \u001b[0mmode\u001b[0m \u001b[0;34m==\u001b[0m \u001b[0;34m'r'\u001b[0m\u001b[0;34m:\u001b[0m\u001b[0;34m\u001b[0m\u001b[0;34m\u001b[0m\u001b[0m\n\u001b[0;32m-> 1131\u001b[0;31m                 \u001b[0mself\u001b[0m\u001b[0;34m.\u001b[0m\u001b[0m_RealGetContents\u001b[0m\u001b[0;34m(\u001b[0m\u001b[0;34m)\u001b[0m\u001b[0;34m\u001b[0m\u001b[0;34m\u001b[0m\u001b[0m\n\u001b[0m\u001b[1;32m   1132\u001b[0m             \u001b[0;32melif\u001b[0m \u001b[0mmode\u001b[0m \u001b[0;32min\u001b[0m \u001b[0;34m(\u001b[0m\u001b[0;34m'w'\u001b[0m\u001b[0;34m,\u001b[0m \u001b[0;34m'x'\u001b[0m\u001b[0;34m)\u001b[0m\u001b[0;34m:\u001b[0m\u001b[0;34m\u001b[0m\u001b[0;34m\u001b[0m\u001b[0m\n\u001b[1;32m   1133\u001b[0m                 \u001b[0;31m# set the modified flag so central directory gets written\u001b[0m\u001b[0;34m\u001b[0m\u001b[0;34m\u001b[0m\u001b[0;34m\u001b[0m\u001b[0m\n",
            "\u001b[0;32m/usr/lib/python3.6/zipfile.py\u001b[0m in \u001b[0;36m_RealGetContents\u001b[0;34m(self)\u001b[0m\n\u001b[1;32m   1196\u001b[0m             \u001b[0;32mraise\u001b[0m \u001b[0mBadZipFile\u001b[0m\u001b[0;34m(\u001b[0m\u001b[0;34m\"File is not a zip file\"\u001b[0m\u001b[0;34m)\u001b[0m\u001b[0;34m\u001b[0m\u001b[0;34m\u001b[0m\u001b[0m\n\u001b[1;32m   1197\u001b[0m         \u001b[0;32mif\u001b[0m \u001b[0;32mnot\u001b[0m \u001b[0mendrec\u001b[0m\u001b[0;34m:\u001b[0m\u001b[0;34m\u001b[0m\u001b[0;34m\u001b[0m\u001b[0m\n\u001b[0;32m-> 1198\u001b[0;31m             \u001b[0;32mraise\u001b[0m \u001b[0mBadZipFile\u001b[0m\u001b[0;34m(\u001b[0m\u001b[0;34m\"File is not a zip file\"\u001b[0m\u001b[0;34m)\u001b[0m\u001b[0;34m\u001b[0m\u001b[0;34m\u001b[0m\u001b[0m\n\u001b[0m\u001b[1;32m   1199\u001b[0m         \u001b[0;32mif\u001b[0m \u001b[0mself\u001b[0m\u001b[0;34m.\u001b[0m\u001b[0mdebug\u001b[0m \u001b[0;34m>\u001b[0m \u001b[0;36m1\u001b[0m\u001b[0;34m:\u001b[0m\u001b[0;34m\u001b[0m\u001b[0;34m\u001b[0m\u001b[0m\n\u001b[1;32m   1200\u001b[0m             \u001b[0mprint\u001b[0m\u001b[0;34m(\u001b[0m\u001b[0mendrec\u001b[0m\u001b[0;34m)\u001b[0m\u001b[0;34m\u001b[0m\u001b[0;34m\u001b[0m\u001b[0m\n",
            "\u001b[0;31mBadZipFile\u001b[0m: File is not a zip file"
          ]
        }
      ]
    },
    {
      "cell_type": "code",
      "metadata": {
        "id": "U7wbwAPd5EMv",
        "colab_type": "code",
        "colab": {
          "base_uri": "https://localhost:8080/",
          "height": 1000
        },
        "outputId": "62fa81fb-c4f3-497a-ca12-2f93f6604965"
      },
      "source": [
        "!unzip Imagedata.zip"
      ],
      "execution_count": 8,
      "outputs": [
        {
          "output_type": "stream",
          "text": [
            "Archive:  Imagedata.zip\n",
            "   creating: Imagedata/\n",
            "   creating: Imagedata/test/\n",
            "   creating: Imagedata/test/family/\n",
            "  inflating: Imagedata/test/family/1.jpeg  \n",
            "  inflating: Imagedata/test/family/2.jpeg  \n",
            "  inflating: Imagedata/test/family/3.jpeg  \n",
            "  inflating: Imagedata/test/family/4.jpeg  \n",
            "  inflating: Imagedata/test/family/5.jpeg  \n",
            "   creating: Imagedata/test/friends/\n",
            "  inflating: Imagedata/test/friends/1.jpeg  \n",
            "  inflating: Imagedata/test/friends/2.jpeg  \n",
            "  inflating: Imagedata/test/friends/3.jpg  \n",
            "  inflating: Imagedata/test/friends/4.jpeg  \n",
            "   creating: Imagedata/train/\n",
            "   creating: Imagedata/train/family/\n",
            "  inflating: Imagedata/train/family/1.jpeg  \n",
            "  inflating: Imagedata/train/family/10.jpeg  \n",
            "  inflating: Imagedata/train/family/11.jpeg  \n",
            "  inflating: Imagedata/train/family/12.jpeg  \n",
            "  inflating: Imagedata/train/family/13.jpeg  \n",
            "  inflating: Imagedata/train/family/14.jpeg  \n",
            "  inflating: Imagedata/train/family/15.jpg  \n",
            "  inflating: Imagedata/train/family/16.jpeg  \n",
            "  inflating: Imagedata/train/family/17.jpeg  \n",
            "  inflating: Imagedata/train/family/18.jpeg  \n",
            "  inflating: Imagedata/train/family/19.jpeg  \n",
            "  inflating: Imagedata/train/family/2.jpeg  \n",
            "  inflating: Imagedata/train/family/20.jpeg  \n",
            "  inflating: Imagedata/train/family/21.jpeg  \n",
            "  inflating: Imagedata/train/family/22.jpeg  \n",
            "  inflating: Imagedata/train/family/23.jpeg  \n",
            "  inflating: Imagedata/train/family/24.jpeg  \n",
            "  inflating: Imagedata/train/family/25.jpeg  \n",
            "  inflating: Imagedata/train/family/26.jpeg  \n",
            "  inflating: Imagedata/train/family/27.jpeg  \n",
            "  inflating: Imagedata/train/family/28.jpeg  \n",
            " extracting: Imagedata/train/family/29.jpeg  \n",
            "  inflating: Imagedata/train/family/3.jpeg  \n",
            "  inflating: Imagedata/train/family/30.jpeg  \n",
            "  inflating: Imagedata/train/family/31.jpeg  \n",
            "  inflating: Imagedata/train/family/32.jpeg  \n",
            " extracting: Imagedata/train/family/33.jpeg  \n",
            "  inflating: Imagedata/train/family/34.jpeg  \n",
            "  inflating: Imagedata/train/family/35.jpeg  \n",
            "  inflating: Imagedata/train/family/36.jpeg  \n",
            "  inflating: Imagedata/train/family/37.jpeg  \n",
            "  inflating: Imagedata/train/family/38.jpeg  \n",
            "  inflating: Imagedata/train/family/39.jpeg  \n",
            "  inflating: Imagedata/train/family/4.jpeg  \n",
            "  inflating: Imagedata/train/family/41.jpeg  \n",
            "  inflating: Imagedata/train/family/42.jpeg  \n",
            "  inflating: Imagedata/train/family/43.jpeg  \n",
            "  inflating: Imagedata/train/family/44.jpeg  \n",
            "  inflating: Imagedata/train/family/45.jpeg  \n",
            "  inflating: Imagedata/train/family/46.jpeg  \n",
            "  inflating: Imagedata/train/family/47.jpeg  \n",
            "  inflating: Imagedata/train/family/48.jpeg  \n",
            " extracting: Imagedata/train/family/49.jpeg  \n",
            "  inflating: Imagedata/train/family/5.jpeg  \n",
            "  inflating: Imagedata/train/family/50.jpeg  \n",
            "  inflating: Imagedata/train/family/51.jpeg  \n",
            " extracting: Imagedata/train/family/52.jpeg  \n",
            "  inflating: Imagedata/train/family/53.jpeg  \n",
            "  inflating: Imagedata/train/family/54.jpeg  \n",
            "  inflating: Imagedata/train/family/55.jpeg  \n",
            " extracting: Imagedata/train/family/56.jpeg  \n",
            "  inflating: Imagedata/train/family/57.jpeg  \n",
            "  inflating: Imagedata/train/family/58.jpeg  \n",
            "  inflating: Imagedata/train/family/59.jpeg  \n",
            "  inflating: Imagedata/train/family/6.jpeg  \n",
            "  inflating: Imagedata/train/family/60.jpeg  \n",
            "  inflating: Imagedata/train/family/7.jpeg  \n",
            "  inflating: Imagedata/train/family/8.jpeg  \n",
            "  inflating: Imagedata/train/family/9.jpeg  \n",
            "   creating: Imagedata/train/friends/\n",
            "  inflating: Imagedata/train/friends/1.jpeg  \n",
            "  inflating: Imagedata/train/friends/10.jpeg  \n",
            "  inflating: Imagedata/train/friends/11.jpeg  \n",
            "  inflating: Imagedata/train/friends/12.jpeg  \n",
            "  inflating: Imagedata/train/friends/13.jpeg  \n",
            "  inflating: Imagedata/train/friends/14.jpeg  \n",
            "  inflating: Imagedata/train/friends/15.jpeg  \n",
            "  inflating: Imagedata/train/friends/16.jpeg  \n",
            "  inflating: Imagedata/train/friends/17.jpeg  \n",
            "  inflating: Imagedata/train/friends/18.jpeg  \n",
            "  inflating: Imagedata/train/friends/2.jpeg  \n",
            "  inflating: Imagedata/train/friends/3.jpeg  \n",
            "  inflating: Imagedata/train/friends/31.jpg  \n",
            "  inflating: Imagedata/train/friends/32.jpg  \n",
            "  inflating: Imagedata/train/friends/33.jpg  \n",
            "  inflating: Imagedata/train/friends/34.jpg  \n",
            "  inflating: Imagedata/train/friends/35.jpg  \n",
            "  inflating: Imagedata/train/friends/36.jpg  \n",
            "  inflating: Imagedata/train/friends/37.jpg  \n",
            "  inflating: Imagedata/train/friends/38.jpg  \n",
            "  inflating: Imagedata/train/friends/39.jpg  \n",
            "  inflating: Imagedata/train/friends/4.jpeg  \n",
            "  inflating: Imagedata/train/friends/40.jpg  \n",
            "  inflating: Imagedata/train/friends/41.jpg  \n",
            "  inflating: Imagedata/train/friends/42.jpg  \n",
            "  inflating: Imagedata/train/friends/43.jpeg  \n",
            "  inflating: Imagedata/train/friends/44.jpg  \n",
            "  inflating: Imagedata/train/friends/45.jpeg  \n",
            "  inflating: Imagedata/train/friends/46.jpg  \n",
            "  inflating: Imagedata/train/friends/47.jpg  \n",
            "  inflating: Imagedata/train/friends/5.jpeg  \n",
            "  inflating: Imagedata/train/friends/6.jpeg  \n",
            "  inflating: Imagedata/train/friends/7.jpg  \n",
            "  inflating: Imagedata/train/friends/8.jpeg  \n",
            "  inflating: Imagedata/train/friends/9.jpeg  \n"
          ],
          "name": "stdout"
        }
      ]
    },
    {
      "cell_type": "code",
      "metadata": {
        "id": "lXbaaKCH2yNt",
        "colab_type": "code",
        "colab": {}
      },
      "source": [
        "#rm -rf 'Image identification.zip'"
      ],
      "execution_count": 0,
      "outputs": []
    },
    {
      "cell_type": "code",
      "metadata": {
        "id": "TjP3hByr3LWc",
        "colab_type": "code",
        "colab": {}
      },
      "source": [
        "#!pip install -q keras"
      ],
      "execution_count": 0,
      "outputs": []
    },
    {
      "cell_type": "code",
      "metadata": {
        "id": "YT_fvceR3UDB",
        "colab_type": "code",
        "colab": {
          "base_uri": "https://localhost:8080/",
          "height": 505
        },
        "outputId": "869c6231-4c7f-45d0-ce33-ab4c87c1d49b"
      },
      "source": [
        "'''from tensorflow.python.client import device_lib\n",
        "device_lib.list_local_devices()'''"
      ],
      "execution_count": 6,
      "outputs": [
        {
          "output_type": "execute_result",
          "data": {
            "text/plain": [
              "[name: \"/device:CPU:0\"\n",
              " device_type: \"CPU\"\n",
              " memory_limit: 268435456\n",
              " locality {\n",
              " }\n",
              " incarnation: 10010094302121935581, name: \"/device:XLA_CPU:0\"\n",
              " device_type: \"XLA_CPU\"\n",
              " memory_limit: 17179869184\n",
              " locality {\n",
              " }\n",
              " incarnation: 4312518630996607820\n",
              " physical_device_desc: \"device: XLA_CPU device\", name: \"/device:XLA_GPU:0\"\n",
              " device_type: \"XLA_GPU\"\n",
              " memory_limit: 17179869184\n",
              " locality {\n",
              " }\n",
              " incarnation: 14085445329434971678\n",
              " physical_device_desc: \"device: XLA_GPU device\", name: \"/device:GPU:0\"\n",
              " device_type: \"GPU\"\n",
              " memory_limit: 15956161332\n",
              " locality {\n",
              "   bus_id: 1\n",
              "   links {\n",
              "   }\n",
              " }\n",
              " incarnation: 6178248900110518366\n",
              " physical_device_desc: \"device: 0, name: Tesla P100-PCIE-16GB, pci bus id: 0000:00:04.0, compute capability: 6.0\"]"
            ]
          },
          "metadata": {
            "tags": []
          },
          "execution_count": 6
        }
      ]
    },
    {
      "cell_type": "code",
      "metadata": {
        "id": "vidD0LEi5zco",
        "colab_type": "code",
        "colab": {
          "base_uri": "https://localhost:8080/",
          "height": 35
        },
        "outputId": "d07eacc5-e8e1-4251-ce79-7fa4a5e59cd9"
      },
      "source": [
        "from keras.models import Sequential\n",
        "from keras.layers import Conv2D\n",
        "from keras.layers import MaxPooling2D\n",
        "from keras.layers import Flatten\n",
        "from keras.layers import Dense,Dropout"
      ],
      "execution_count": 9,
      "outputs": [
        {
          "output_type": "stream",
          "text": [
            "Using TensorFlow backend.\n"
          ],
          "name": "stderr"
        }
      ]
    },
    {
      "cell_type": "code",
      "metadata": {
        "id": "4JwWFx116Exk",
        "colab_type": "code",
        "colab": {
          "base_uri": "https://localhost:8080/",
          "height": 159
        },
        "outputId": "65e0c801-f665-49a5-a8b6-c8baca07ee55"
      },
      "source": [
        "# Initialising the CNN\n",
        "classifier = Sequential()\n",
        "\n",
        "# Step 1 - Convolution\n",
        "classifier.add(Conv2D(32, (3, 3), input_shape = (64, 64, 3), activation = 'relu'))\n",
        "\n",
        "# Step 2 - Pooling\n",
        "classifier.add(MaxPooling2D(pool_size = (2, 2)))\n",
        "\n",
        "# Adding a second convolutional layer\n",
        "classifier.add(Conv2D(32, (3, 3), activation = 'relu'))\n",
        "classifier.add(MaxPooling2D(pool_size = (2, 2)))\n",
        "\n",
        "\n",
        "\n",
        "# Step 3 - Flattening\n",
        "classifier.add(Flatten())\n",
        "\n",
        "# Step 4 - Full connection\n",
        "classifier.add(Dense(units = 128, activation = 'relu'))\n",
        "\n",
        "classifier.add(Dense(units = 1, activation = 'sigmoid'))\n",
        "\n",
        "# Compiling the CNN\n",
        "classifier.compile(optimizer = 'adam', loss = 'binary_crossentropy', metrics = ['accuracy'])"
      ],
      "execution_count": 10,
      "outputs": [
        {
          "output_type": "stream",
          "text": [
            "WARNING:tensorflow:From /usr/local/lib/python3.6/dist-packages/keras/backend/tensorflow_backend.py:4267: The name tf.nn.max_pool is deprecated. Please use tf.nn.max_pool2d instead.\n",
            "\n",
            "WARNING:tensorflow:From /usr/local/lib/python3.6/dist-packages/keras/optimizers.py:793: The name tf.train.Optimizer is deprecated. Please use tf.compat.v1.train.Optimizer instead.\n",
            "\n",
            "WARNING:tensorflow:From /tensorflow-1.15.0/python3.6/tensorflow_core/python/ops/nn_impl.py:183: where (from tensorflow.python.ops.array_ops) is deprecated and will be removed in a future version.\n",
            "Instructions for updating:\n",
            "Use tf.where in 2.0, which has the same broadcast rule as np.where\n"
          ],
          "name": "stdout"
        }
      ]
    },
    {
      "cell_type": "code",
      "metadata": {
        "id": "zWVGpHcF6Q68",
        "colab_type": "code",
        "colab": {}
      },
      "source": [
        "from keras.preprocessing.image import ImageDataGenerator\n",
        "\n",
        "train_datagen = ImageDataGenerator(rescale = 1./255,\n",
        "                                   shear_range = 0.2,\n",
        "                                   zoom_range = 0.2,\n",
        "                                   horizontal_flip = True)\n",
        "\n",
        "test_datagen = ImageDataGenerator(rescale = 1./255)"
      ],
      "execution_count": 0,
      "outputs": []
    },
    {
      "cell_type": "code",
      "metadata": {
        "id": "rXZOytFy6fAV",
        "colab_type": "code",
        "colab": {
          "base_uri": "https://localhost:8080/",
          "height": 399
        },
        "outputId": "c5f70021-3030-4a53-8312-270d57f7fe08"
      },
      "source": [
        "classifier.summary()"
      ],
      "execution_count": 13,
      "outputs": [
        {
          "output_type": "stream",
          "text": [
            "Model: \"sequential_1\"\n",
            "_________________________________________________________________\n",
            "Layer (type)                 Output Shape              Param #   \n",
            "=================================================================\n",
            "conv2d_1 (Conv2D)            (None, 62, 62, 32)        896       \n",
            "_________________________________________________________________\n",
            "max_pooling2d_1 (MaxPooling2 (None, 31, 31, 32)        0         \n",
            "_________________________________________________________________\n",
            "conv2d_2 (Conv2D)            (None, 29, 29, 32)        9248      \n",
            "_________________________________________________________________\n",
            "max_pooling2d_2 (MaxPooling2 (None, 14, 14, 32)        0         \n",
            "_________________________________________________________________\n",
            "flatten_1 (Flatten)          (None, 6272)              0         \n",
            "_________________________________________________________________\n",
            "dense_1 (Dense)              (None, 128)               802944    \n",
            "_________________________________________________________________\n",
            "dense_2 (Dense)              (None, 1)                 129       \n",
            "=================================================================\n",
            "Total params: 813,217\n",
            "Trainable params: 813,217\n",
            "Non-trainable params: 0\n",
            "_________________________________________________________________\n"
          ],
          "name": "stdout"
        }
      ]
    },
    {
      "cell_type": "code",
      "metadata": {
        "id": "pBCOabp_6kaq",
        "colab_type": "code",
        "colab": {
          "base_uri": "https://localhost:8080/",
          "height": 35
        },
        "outputId": "d3e20cd0-23e5-461d-fee2-0fc9b28f40fa"
      },
      "source": [
        "training_set = train_datagen.flow_from_directory('Imagedata/train',\n",
        "                                                 target_size = (64, 64),\n",
        "                                                 batch_size = 32,\n",
        "                                                 class_mode = 'binary')"
      ],
      "execution_count": 17,
      "outputs": [
        {
          "output_type": "stream",
          "text": [
            "Found 94 images belonging to 2 classes.\n"
          ],
          "name": "stdout"
        }
      ]
    },
    {
      "cell_type": "code",
      "metadata": {
        "id": "3N85l0QE7JJA",
        "colab_type": "code",
        "colab": {
          "base_uri": "https://localhost:8080/",
          "height": 35
        },
        "outputId": "a01794f0-0f18-44a4-83cc-f1c1c6e6cc20"
      },
      "source": [
        "test_set = test_datagen.flow_from_directory('Imagedata/test',\n",
        "                                            target_size = (64, 64),\n",
        "                                            batch_size = 32,\n",
        "                                            class_mode = 'binary')"
      ],
      "execution_count": 18,
      "outputs": [
        {
          "output_type": "stream",
          "text": [
            "Found 9 images belonging to 2 classes.\n"
          ],
          "name": "stdout"
        }
      ]
    },
    {
      "cell_type": "code",
      "metadata": {
        "id": "_Wz1m6tL7Um3",
        "colab_type": "code",
        "colab": {
          "base_uri": "https://localhost:8080/",
          "height": 1000
        },
        "outputId": "5ca97fae-df63-415f-a8ba-a677601f7ec3"
      },
      "source": [
        "classifier.fit_generator(training_set,\n",
        "                         steps_per_epoch = 50,\n",
        "                         epochs =100,\n",
        "                         validation_data = test_set,\n",
        "                         validation_steps = 5)"
      ],
      "execution_count": 19,
      "outputs": [
        {
          "output_type": "stream",
          "text": [
            "Epoch 1/100\n",
            "50/50 [==============================] - 38s 763ms/step - loss: 0.5328 - acc: 0.7423 - val_loss: 0.7748 - val_acc: 0.4444\n",
            "Epoch 2/100\n",
            "50/50 [==============================] - 26s 520ms/step - loss: 0.2550 - acc: 0.9075 - val_loss: 0.7715 - val_acc: 0.6667\n",
            "Epoch 3/100\n",
            "50/50 [==============================] - 26s 511ms/step - loss: 0.0961 - acc: 0.9757 - val_loss: 2.1319 - val_acc: 0.4444\n",
            "Epoch 4/100\n",
            "50/50 [==============================] - 25s 507ms/step - loss: 0.1853 - acc: 0.9338 - val_loss: 1.2276 - val_acc: 0.6667\n",
            "Epoch 5/100\n",
            "50/50 [==============================] - 26s 519ms/step - loss: 0.0449 - acc: 0.9878 - val_loss: 1.3086 - val_acc: 0.5556\n",
            "Epoch 6/100\n",
            "50/50 [==============================] - 26s 511ms/step - loss: 0.0295 - acc: 0.9936 - val_loss: 2.0740 - val_acc: 0.5556\n",
            "Epoch 7/100\n",
            "50/50 [==============================] - 26s 511ms/step - loss: 0.0140 - acc: 0.9993 - val_loss: 1.5832 - val_acc: 0.7778\n",
            "Epoch 8/100\n",
            "50/50 [==============================] - 26s 519ms/step - loss: 0.0095 - acc: 0.9981 - val_loss: 1.9905 - val_acc: 0.5556\n",
            "Epoch 9/100\n",
            "50/50 [==============================] - 26s 513ms/step - loss: 0.0050 - acc: 1.0000 - val_loss: 1.5158 - val_acc: 0.5556\n",
            "Epoch 10/100\n",
            "50/50 [==============================] - 26s 511ms/step - loss: 0.0043 - acc: 1.0000 - val_loss: 1.9037 - val_acc: 0.6667\n",
            "Epoch 11/100\n",
            "50/50 [==============================] - 26s 521ms/step - loss: 0.0036 - acc: 1.0000 - val_loss: 1.6134 - val_acc: 0.7778\n",
            "Epoch 12/100\n",
            "50/50 [==============================] - 26s 515ms/step - loss: 0.0033 - acc: 1.0000 - val_loss: 2.2788 - val_acc: 0.5556\n",
            "Epoch 13/100\n",
            "50/50 [==============================] - 26s 511ms/step - loss: 0.0113 - acc: 0.9955 - val_loss: 1.9452 - val_acc: 0.6667\n",
            "Epoch 14/100\n",
            "50/50 [==============================] - 26s 521ms/step - loss: 0.0281 - acc: 0.9885 - val_loss: 1.1664 - val_acc: 0.6667\n",
            "Epoch 15/100\n",
            "50/50 [==============================] - 26s 513ms/step - loss: 0.0182 - acc: 0.9948 - val_loss: 2.0983 - val_acc: 0.6667\n",
            "Epoch 16/100\n",
            "50/50 [==============================] - 25s 509ms/step - loss: 0.0015 - acc: 1.0000 - val_loss: 1.7674 - val_acc: 0.6667\n",
            "Epoch 17/100\n",
            "50/50 [==============================] - 26s 519ms/step - loss: 9.1495e-04 - acc: 1.0000 - val_loss: 1.8991 - val_acc: 0.6667\n",
            "Epoch 18/100\n",
            "50/50 [==============================] - 26s 513ms/step - loss: 0.0018 - acc: 1.0000 - val_loss: 1.7024 - val_acc: 0.6667\n",
            "Epoch 19/100\n",
            "50/50 [==============================] - 26s 510ms/step - loss: 0.0042 - acc: 0.9987 - val_loss: 1.5650 - val_acc: 0.6667\n",
            "Epoch 20/100\n",
            "50/50 [==============================] - 26s 518ms/step - loss: 0.0014 - acc: 1.0000 - val_loss: 1.9478 - val_acc: 0.6667\n",
            "Epoch 21/100\n",
            "50/50 [==============================] - 26s 513ms/step - loss: 5.5173e-04 - acc: 1.0000 - val_loss: 1.7809 - val_acc: 0.7778\n",
            "Epoch 22/100\n",
            "50/50 [==============================] - 26s 511ms/step - loss: 5.2247e-04 - acc: 1.0000 - val_loss: 2.1064 - val_acc: 0.6667\n",
            "Epoch 23/100\n",
            "50/50 [==============================] - 26s 519ms/step - loss: 2.9499e-04 - acc: 1.0000 - val_loss: 1.9247 - val_acc: 0.6667\n",
            "Epoch 24/100\n",
            "50/50 [==============================] - 26s 511ms/step - loss: 2.4523e-04 - acc: 1.0000 - val_loss: 1.9756 - val_acc: 0.7778\n",
            "Epoch 25/100\n",
            "50/50 [==============================] - 25s 507ms/step - loss: 1.7438e-04 - acc: 1.0000 - val_loss: 2.0139 - val_acc: 0.7778\n",
            "Epoch 26/100\n",
            "50/50 [==============================] - 26s 519ms/step - loss: 1.5616e-04 - acc: 1.0000 - val_loss: 2.1559 - val_acc: 0.7778\n",
            "Epoch 27/100\n",
            "50/50 [==============================] - 25s 509ms/step - loss: 1.5270e-04 - acc: 1.0000 - val_loss: 2.1441 - val_acc: 0.7778\n",
            "Epoch 28/100\n",
            "50/50 [==============================] - 25s 509ms/step - loss: 1.0432e-04 - acc: 1.0000 - val_loss: 2.2099 - val_acc: 0.7778\n",
            "Epoch 29/100\n",
            "50/50 [==============================] - 26s 519ms/step - loss: 1.4861e-04 - acc: 1.0000 - val_loss: 2.2921 - val_acc: 0.6667\n",
            "Epoch 30/100\n",
            "50/50 [==============================] - 26s 511ms/step - loss: 2.2384e-04 - acc: 1.0000 - val_loss: 2.2951 - val_acc: 0.6667\n",
            "Epoch 31/100\n",
            "50/50 [==============================] - 25s 507ms/step - loss: 1.0113e-04 - acc: 1.0000 - val_loss: 2.1186 - val_acc: 0.7778\n",
            "Epoch 32/100\n",
            "50/50 [==============================] - 26s 519ms/step - loss: 9.0607e-05 - acc: 1.0000 - val_loss: 2.1721 - val_acc: 0.7778\n",
            "Epoch 33/100\n",
            "50/50 [==============================] - 26s 513ms/step - loss: 7.1383e-05 - acc: 1.0000 - val_loss: 2.1422 - val_acc: 0.7778\n",
            "Epoch 34/100\n",
            "50/50 [==============================] - 25s 509ms/step - loss: 8.0501e-05 - acc: 1.0000 - val_loss: 2.1215 - val_acc: 0.7778\n",
            "Epoch 35/100\n",
            "50/50 [==============================] - 26s 517ms/step - loss: 8.4793e-05 - acc: 1.0000 - val_loss: 2.1369 - val_acc: 0.7778\n",
            "Epoch 36/100\n",
            "50/50 [==============================] - 26s 515ms/step - loss: 6.9760e-05 - acc: 1.0000 - val_loss: 2.2119 - val_acc: 0.7778\n",
            "Epoch 37/100\n",
            "50/50 [==============================] - 25s 509ms/step - loss: 6.9185e-05 - acc: 1.0000 - val_loss: 2.2387 - val_acc: 0.7778\n",
            "Epoch 38/100\n",
            "50/50 [==============================] - 26s 519ms/step - loss: 5.4627e-05 - acc: 1.0000 - val_loss: 2.0828 - val_acc: 0.7778\n",
            "Epoch 39/100\n",
            "50/50 [==============================] - 26s 513ms/step - loss: 1.0428e-04 - acc: 1.0000 - val_loss: 2.0776 - val_acc: 0.7778\n",
            "Epoch 40/100\n",
            "50/50 [==============================] - 25s 509ms/step - loss: 4.9869e-05 - acc: 1.0000 - val_loss: 2.2190 - val_acc: 0.7778\n",
            "Epoch 41/100\n",
            "50/50 [==============================] - 26s 519ms/step - loss: 5.0648e-04 - acc: 1.0000 - val_loss: 2.2770 - val_acc: 0.7778\n",
            "Epoch 42/100\n",
            "50/50 [==============================] - 25s 509ms/step - loss: 1.4241e-04 - acc: 1.0000 - val_loss: 2.0775 - val_acc: 0.7778\n",
            "Epoch 43/100\n",
            "50/50 [==============================] - 25s 509ms/step - loss: 1.0287e-04 - acc: 1.0000 - val_loss: 2.1439 - val_acc: 0.7778\n",
            "Epoch 44/100\n",
            "50/50 [==============================] - 26s 519ms/step - loss: 7.4733e-05 - acc: 1.0000 - val_loss: 2.0646 - val_acc: 0.7778\n",
            "Epoch 45/100\n",
            "50/50 [==============================] - 26s 513ms/step - loss: 2.0122e-04 - acc: 1.0000 - val_loss: 2.0366 - val_acc: 0.7778\n",
            "Epoch 46/100\n",
            "50/50 [==============================] - 25s 507ms/step - loss: 5.8885e-05 - acc: 1.0000 - val_loss: 2.2395 - val_acc: 0.7778\n",
            "Epoch 47/100\n",
            "50/50 [==============================] - 26s 517ms/step - loss: 5.4614e-05 - acc: 1.0000 - val_loss: 2.1362 - val_acc: 0.7778\n",
            "Epoch 48/100\n",
            "50/50 [==============================] - 25s 507ms/step - loss: 5.3466e-05 - acc: 1.0000 - val_loss: 2.2204 - val_acc: 0.7778\n",
            "Epoch 49/100\n",
            "50/50 [==============================] - 25s 505ms/step - loss: 5.5654e-05 - acc: 1.0000 - val_loss: 2.1813 - val_acc: 0.7778\n",
            "Epoch 50/100\n",
            "50/50 [==============================] - 26s 513ms/step - loss: 5.4250e-05 - acc: 1.0000 - val_loss: 2.2434 - val_acc: 0.7778\n",
            "Epoch 51/100\n",
            "50/50 [==============================] - 26s 513ms/step - loss: 4.5668e-05 - acc: 1.0000 - val_loss: 2.2633 - val_acc: 0.7778\n",
            "Epoch 52/100\n",
            "50/50 [==============================] - 25s 507ms/step - loss: 3.2533e-05 - acc: 1.0000 - val_loss: 2.2122 - val_acc: 0.7778\n",
            "Epoch 53/100\n",
            "50/50 [==============================] - 26s 515ms/step - loss: 2.5588e-05 - acc: 1.0000 - val_loss: 2.2087 - val_acc: 0.7778\n",
            "Epoch 54/100\n",
            "50/50 [==============================] - 25s 509ms/step - loss: 2.6687e-05 - acc: 1.0000 - val_loss: 2.2748 - val_acc: 0.7778\n",
            "Epoch 55/100\n",
            "50/50 [==============================] - 25s 507ms/step - loss: 2.7919e-05 - acc: 1.0000 - val_loss: 2.2930 - val_acc: 0.7778\n",
            "Epoch 56/100\n",
            "50/50 [==============================] - 26s 519ms/step - loss: 2.3116e-05 - acc: 1.0000 - val_loss: 2.2744 - val_acc: 0.7778\n",
            "Epoch 57/100\n",
            "50/50 [==============================] - 25s 509ms/step - loss: 2.5071e-05 - acc: 1.0000 - val_loss: 2.2268 - val_acc: 0.7778\n",
            "Epoch 58/100\n",
            "50/50 [==============================] - 25s 499ms/step - loss: 1.5789e-05 - acc: 1.0000 - val_loss: 2.2313 - val_acc: 0.7778\n",
            "Epoch 59/100\n",
            "50/50 [==============================] - 25s 503ms/step - loss: 2.8159e-05 - acc: 1.0000 - val_loss: 2.2019 - val_acc: 0.7778\n",
            "Epoch 60/100\n",
            "50/50 [==============================] - 25s 505ms/step - loss: 2.1302e-05 - acc: 1.0000 - val_loss: 2.1436 - val_acc: 0.7778\n",
            "Epoch 61/100\n",
            "50/50 [==============================] - 25s 501ms/step - loss: 3.3029e-05 - acc: 1.0000 - val_loss: 1.9982 - val_acc: 0.7778\n",
            "Epoch 62/100\n",
            "50/50 [==============================] - 26s 515ms/step - loss: 2.1743e-05 - acc: 1.0000 - val_loss: 2.1598 - val_acc: 0.7778\n",
            "Epoch 63/100\n",
            "50/50 [==============================] - 26s 511ms/step - loss: 1.5902e-05 - acc: 1.0000 - val_loss: 2.2048 - val_acc: 0.7778\n",
            "Epoch 64/100\n",
            "50/50 [==============================] - 25s 509ms/step - loss: 1.2872e-05 - acc: 1.0000 - val_loss: 2.1815 - val_acc: 0.7778\n",
            "Epoch 65/100\n",
            "50/50 [==============================] - 26s 522ms/step - loss: 2.4290e-05 - acc: 1.0000 - val_loss: 2.2476 - val_acc: 0.7778\n",
            "Epoch 66/100\n",
            "50/50 [==============================] - 26s 515ms/step - loss: 2.0734e-05 - acc: 1.0000 - val_loss: 2.2088 - val_acc: 0.7778\n",
            "Epoch 67/100\n",
            "50/50 [==============================] - 26s 515ms/step - loss: 2.1065e-05 - acc: 1.0000 - val_loss: 2.2970 - val_acc: 0.7778\n",
            "Epoch 68/100\n",
            "50/50 [==============================] - 26s 519ms/step - loss: 1.3512e-05 - acc: 1.0000 - val_loss: 2.1894 - val_acc: 0.7778\n",
            "Epoch 69/100\n",
            "50/50 [==============================] - 26s 511ms/step - loss: 1.0571e-05 - acc: 1.0000 - val_loss: 2.1689 - val_acc: 0.7778\n",
            "Epoch 70/100\n",
            "50/50 [==============================] - 25s 507ms/step - loss: 1.6048e-05 - acc: 1.0000 - val_loss: 2.1923 - val_acc: 0.7778\n",
            "Epoch 71/100\n",
            "50/50 [==============================] - 26s 519ms/step - loss: 1.2309e-05 - acc: 1.0000 - val_loss: 2.2815 - val_acc: 0.7778\n",
            "Epoch 72/100\n",
            "50/50 [==============================] - 25s 509ms/step - loss: 1.1486e-05 - acc: 1.0000 - val_loss: 2.2763 - val_acc: 0.7778\n",
            "Epoch 73/100\n",
            "50/50 [==============================] - 25s 507ms/step - loss: 1.1629e-05 - acc: 1.0000 - val_loss: 2.2789 - val_acc: 0.7778\n",
            "Epoch 74/100\n",
            "50/50 [==============================] - 26s 519ms/step - loss: 1.2594e-05 - acc: 1.0000 - val_loss: 2.2805 - val_acc: 0.7778\n",
            "Epoch 75/100\n",
            "50/50 [==============================] - 25s 505ms/step - loss: 1.1084e-05 - acc: 1.0000 - val_loss: 2.2748 - val_acc: 0.7778\n",
            "Epoch 76/100\n",
            "50/50 [==============================] - 25s 497ms/step - loss: 1.6768e-05 - acc: 1.0000 - val_loss: 2.3169 - val_acc: 0.7778\n",
            "Epoch 77/100\n",
            "50/50 [==============================] - 26s 513ms/step - loss: 1.1256e-05 - acc: 1.0000 - val_loss: 2.1636 - val_acc: 0.7778\n",
            "Epoch 78/100\n",
            "50/50 [==============================] - 25s 503ms/step - loss: 1.5636e-05 - acc: 1.0000 - val_loss: 2.2015 - val_acc: 0.7778\n",
            "Epoch 79/100\n",
            "50/50 [==============================] - 25s 505ms/step - loss: 9.9063e-06 - acc: 1.0000 - val_loss: 2.2869 - val_acc: 0.7778\n",
            "Epoch 80/100\n",
            "50/50 [==============================] - 26s 518ms/step - loss: 9.0344e-06 - acc: 1.0000 - val_loss: 2.2135 - val_acc: 0.7778\n",
            "Epoch 81/100\n",
            "50/50 [==============================] - 25s 507ms/step - loss: 1.0002e-05 - acc: 1.0000 - val_loss: 2.3207 - val_acc: 0.7778\n",
            "Epoch 82/100\n",
            "50/50 [==============================] - 25s 507ms/step - loss: 1.6879e-05 - acc: 1.0000 - val_loss: 2.0011 - val_acc: 0.7778\n",
            "Epoch 83/100\n",
            "50/50 [==============================] - 26s 515ms/step - loss: 1.9199e-05 - acc: 1.0000 - val_loss: 2.2543 - val_acc: 0.7778\n",
            "Epoch 84/100\n",
            "50/50 [==============================] - 25s 509ms/step - loss: 1.7526e-05 - acc: 1.0000 - val_loss: 2.2576 - val_acc: 0.7778\n",
            "Epoch 85/100\n",
            "50/50 [==============================] - 25s 503ms/step - loss: 8.7112e-06 - acc: 1.0000 - val_loss: 2.1157 - val_acc: 0.7778\n",
            "Epoch 86/100\n",
            "50/50 [==============================] - 26s 519ms/step - loss: 9.6069e-06 - acc: 1.0000 - val_loss: 2.2739 - val_acc: 0.7778\n",
            "Epoch 87/100\n",
            "50/50 [==============================] - 25s 507ms/step - loss: 6.9734e-06 - acc: 1.0000 - val_loss: 2.1802 - val_acc: 0.7778\n",
            "Epoch 88/100\n",
            "50/50 [==============================] - 25s 507ms/step - loss: 6.2968e-06 - acc: 1.0000 - val_loss: 2.2919 - val_acc: 0.7778\n",
            "Epoch 89/100\n",
            "50/50 [==============================] - 26s 517ms/step - loss: 9.6142e-06 - acc: 1.0000 - val_loss: 2.3521 - val_acc: 0.7778\n",
            "Epoch 90/100\n",
            "50/50 [==============================] - 26s 511ms/step - loss: 1.7453e-05 - acc: 1.0000 - val_loss: 1.8822 - val_acc: 0.8889\n",
            "Epoch 91/100\n",
            "50/50 [==============================] - 25s 507ms/step - loss: 1.9608e-05 - acc: 1.0000 - val_loss: 2.2067 - val_acc: 0.7778\n",
            "Epoch 92/100\n",
            "50/50 [==============================] - 26s 513ms/step - loss: 5.8972e-06 - acc: 1.0000 - val_loss: 2.2257 - val_acc: 0.7778\n",
            "Epoch 93/100\n",
            "50/50 [==============================] - 25s 501ms/step - loss: 7.0954e-06 - acc: 1.0000 - val_loss: 2.2688 - val_acc: 0.7778\n",
            "Epoch 94/100\n",
            "50/50 [==============================] - 25s 507ms/step - loss: 7.6047e-06 - acc: 1.0000 - val_loss: 2.3780 - val_acc: 0.7778\n",
            "Epoch 95/100\n",
            "50/50 [==============================] - 26s 517ms/step - loss: 7.1129e-06 - acc: 1.0000 - val_loss: 2.2949 - val_acc: 0.7778\n",
            "Epoch 96/100\n",
            "50/50 [==============================] - 25s 503ms/step - loss: 6.5104e-06 - acc: 1.0000 - val_loss: 2.3296 - val_acc: 0.7778\n",
            "Epoch 97/100\n",
            "50/50 [==============================] - 25s 503ms/step - loss: 3.1231e-05 - acc: 1.0000 - val_loss: 2.1978 - val_acc: 0.7778\n",
            "Epoch 98/100\n",
            "50/50 [==============================] - 26s 515ms/step - loss: 5.4928e-06 - acc: 1.0000 - val_loss: 2.2226 - val_acc: 0.7778\n",
            "Epoch 99/100\n",
            "50/50 [==============================] - 25s 503ms/step - loss: 5.0918e-06 - acc: 1.0000 - val_loss: 2.3539 - val_acc: 0.7778\n",
            "Epoch 100/100\n",
            "50/50 [==============================] - 25s 507ms/step - loss: 1.2672e-05 - acc: 1.0000 - val_loss: 2.7581 - val_acc: 0.7778\n"
          ],
          "name": "stdout"
        },
        {
          "output_type": "execute_result",
          "data": {
            "text/plain": [
              "<keras.callbacks.History at 0x7f788d79b940>"
            ]
          },
          "metadata": {
            "tags": []
          },
          "execution_count": 19
        }
      ]
    },
    {
      "cell_type": "code",
      "metadata": {
        "id": "4bdVhLS9Am8U",
        "colab_type": "code",
        "colab": {}
      },
      "source": [
        "classifier.save('classifier.h5')\n",
        "classifier.save_weights('classifier.wth5')"
      ],
      "execution_count": 0,
      "outputs": []
    },
    {
      "cell_type": "code",
      "metadata": {
        "id": "QKNBptdvFh3x",
        "colab_type": "code",
        "colab": {}
      },
      "source": [
        "import numpy as np\n",
        "import cv2\n",
        "import matplotlib.pyplot as plt\n",
        "from keras.preprocessing import image\n",
        "test_image = image.load_img('Imagedata/test'\\dogs\\7.jpg',target_size=(64,64))\n",
        "test_image = image.img_to_array(test_image)\n",
        "test_image = np.expand_dims(test_image,axis=0)\n",
        "result = classifier.predict(test_image)\n",
        "print(result)\n",
        "training_set.class_indices\n",
        "if result[0][0]>=0.5:\n",
        "    prediction= 'dog'\n",
        "else:\n",
        "    prediction = 'cat'\n",
        "print(prediction)\n",
        "\n",
        "%matplotlib inline\n",
        "imgloc = r'C:\\Users\\ajarun\\simplilearn\\cnn\\data\\train\\dogs\\7.jpg'\n",
        "img= cv2.imread(imgloc)\n",
        "plt.title('How OpenCV images (BGR) display in Matplotlib (RGB)')\n",
        "plt.imshow(img)\n",
        "plt.show()"
      ],
      "execution_count": 0,
      "outputs": []
    }
  ]
}