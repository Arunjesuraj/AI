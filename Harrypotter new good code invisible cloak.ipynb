{
 "cells": [
  {
   "cell_type": "code",
   "execution_count": 21,
   "metadata": {},
   "outputs": [],
   "source": [
    "import cv2\n",
    "import numpy as np\n",
    "import time\n",
    "\n",
    "\n",
    "## Preparation for writing the ouput video\n",
    "fourcc = cv2.VideoWriter_fourcc(*'XVID')\n",
    "out = cv2.VideoWriter('output.avi',fourcc,20.0, (640,480))\n",
    "\n",
    "video_capture = cv2.VideoCapture(0)\n",
    "\n",
    "time.sleep(3)\n",
    "background = 0\n",
    "\n",
    "for k in range(45):\n",
    "    ret,background = video_capture.read()\n",
    "background = np.flip(background,axis=1)\n",
    "while(video_capture.isOpened()):\n",
    "    ret, image = video_capture.read()\n",
    "    if not ret:\n",
    "        break\n",
    "    image = np.flip(image,axis=1)\n",
    "    \n",
    "    # Change to HSV\n",
    "    hsv = cv2.cvtColor(image, cv2.COLOR_BGR2HSV)\n",
    "\n",
    "    #Create masks with coordinates to detect the color\n",
    "    lower_blue = np.array([94, 80, 2])\n",
    "    upper_blue = np.array([126, 255, 255])\n",
    "    \n",
    "    mask_all = cv2.inRange(hsv,lower_blue,upper_blue)\n",
    "\n",
    "\n",
    "    mask_all = cv2.morphologyEx(mask_all, cv2.MORPH_OPEN, np.ones((3,3),np.uint8))\n",
    "    mask_all = cv2.morphologyEx(mask_all, cv2.MORPH_DILATE, np.ones((3,3),np.uint8))\n",
    " \n",
    " \n",
    "    #Hide the blue part away\n",
    "    mask2 = cv2.bitwise_not(mask_all)\n",
    " \n",
    "    streamA = cv2.bitwise_and(image,image,mask=mask2)\n",
    "\n",
    "    #Copy the masked area's original part\n",
    "    streamB = cv2.bitwise_and(background, background, mask = mask_all)\n",
    " \n",
    " \n",
    "    #Write the video in the file specified in the previous block\n",
    "    output = cv2.addWeighted(streamA,1,streamB,1,0)\n",
    "    out.write(output)\n",
    "    cv2.putText(output, \"To stop press 'esc' button\", (5,15), cv2.FONT_HERSHEY_SIMPLEX ,0.6 , (0,), 3)\n",
    "    '''cv2.imshow('mask_all',mask_all)\n",
    "    cv2.imshow('mask2',mask2)\n",
    "    cv2.imshow('streamA',streamA)\n",
    "    cv2.imshow('streamB',streamB)\n",
    "    cv2.imshow(\"background\",background)'''\n",
    "    cv2.imshow(\"final\",output)\n",
    "    k = cv2.waitKey(10)\n",
    "    if k == 27:\n",
    "        break\n",
    "video_capture.release()\n",
    "out.release()\n",
    "cv2.destroyAllWindows()"
   ]
  },
  {
   "cell_type": "code",
   "execution_count": 1,
   "metadata": {},
   "outputs": [
    {
     "data": {
      "text/plain": [
       "'C:\\\\Users\\\\ajarun'"
      ]
     },
     "execution_count": 1,
     "metadata": {},
     "output_type": "execute_result"
    }
   ],
   "source": [
    "pwd"
   ]
  },
  {
   "cell_type": "code",
   "execution_count": null,
   "metadata": {},
   "outputs": [],
   "source": [
    "Notes for adding colors\n",
    "Red color\n",
    "low_red = np.array([161, 155, 84]) high_red = np.array([179, 255, 255]) red_mask = cv2.inRange(hsv_frame, low_red, high_red) red = cv2.bitwise_and(frame, frame, mask=red_mask)\n",
    "\n",
    "Blue color\n",
    "low_blue = np.array([94, 80, 2]) high_blue = np.array([126, 255, 255]) blue_mask = cv2.inRange(hsv_frame, low_blue, high_blue) blue = cv2.bitwise_and(frame, frame, mask=blue_mask)\n",
    "\n",
    "Green color\n",
    "low_green = np.array([25, 52, 72]) high_green = np.array([102, 255, 255]) green_mask = cv2.inRange(hsv_frame, low_green, high_green) green = cv2.bitwise_and(frame, frame, mask=green_mask)\n",
    "\n",
    "Every color except white\n",
    "low = np.array([0, 42, 0]) high = np.array([179, 255, 255]) mask = cv2.inRange(hsv_frame, low, high) result = cv2.bitwise_and(frame, frame, mask=mask)"
   ]
  },
  {
   "cell_type": "code",
   "execution_count": null,
   "metadata": {},
   "outputs": [],
   "source": [
    "https://www.geeksforgeeks.org/arithmetic-operations-on-images-using-opencv-set-2-bitwise-operations-on-binary-images/\n",
    "https://note.nkmk.me/en/python-opencv-numpy-alpha-blend-mask/"
   ]
  }
 ],
 "metadata": {
  "kernelspec": {
   "display_name": "Python 3",
   "language": "python",
   "name": "python3"
  },
  "language_info": {
   "codemirror_mode": {
    "name": "ipython",
    "version": 3
   },
   "file_extension": ".py",
   "mimetype": "text/x-python",
   "name": "python",
   "nbconvert_exporter": "python",
   "pygments_lexer": "ipython3",
   "version": "3.6.2"
  }
 },
 "nbformat": 4,
 "nbformat_minor": 2
}
